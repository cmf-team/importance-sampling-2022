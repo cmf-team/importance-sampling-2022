{
 "cells": [
  {
   "cell_type": "code",
   "execution_count": 1,
   "id": "8adf6229",
   "metadata": {},
   "outputs": [],
   "source": [
    "import pandas as pd\n",
    "import numpy as np\n",
    "import investiny\n",
    "from investiny import historical_data, search_assets"
   ]
  },
  {
   "cell_type": "code",
   "execution_count": 2,
   "id": "0cb54c69",
   "metadata": {},
   "outputs": [],
   "source": [
    "stocks = ['GOOGL', 'AAPL'] \n",
    "comm = ['Brent Oil Futures', 'Crude Oil WTI Futures'] \n",
    "crypto = ['BTC', 'ETH']"
   ]
  },
  {
   "cell_type": "code",
   "execution_count": 3,
   "id": "3b4043d2",
   "metadata": {},
   "outputs": [
    {
     "data": {
      "text/plain": [
       "01/03/2020   -0.009298\n",
       "01/06/2020    0.009657\n",
       "01/07/2020   -0.004406\n",
       "01/08/2020    0.015233\n",
       "01/09/2020    0.020241\n",
       "                ...   \n",
       "09/26/2022    0.001714\n",
       "09/27/2022    0.005663\n",
       "09/28/2022   -0.010066\n",
       "09/29/2022   -0.047542\n",
       "09/30/2022   -0.029201\n",
       "Length: 692, dtype: float64"
      ]
     },
     "execution_count": 3,
     "metadata": {},
     "output_type": "execute_result"
    }
   ],
   "source": [
    "#stocks\n",
    "stocks = ['GOOGL', 'AAPL'] \n",
    "weights = [0.1, 0.9]\n",
    "\n",
    "from_date = '01/02/2020'\n",
    "to_date = '10/01/2022'\n",
    "\n",
    "def stocks_returns(assets, weights, from_date, to_date):\n",
    "    st_data = []\n",
    "    i = 0\n",
    "    for sec in assets:\n",
    "        sec_id = investiny.search_assets(query=sec, limit=1, exchange=\"NASDAQ\")[0]['ticker']\n",
    "        data = investiny.historical_data(sec_id, from_date, to_date)\n",
    "        dates = data['date']\n",
    "        st_data.append([j * weights[i] for j in data['close']])\n",
    "        i += 1\n",
    "    res = pd.DataFrame(data = np.array(st_data), columns = dates).T \n",
    "    res = res.sum(axis=1)\n",
    "    res = (res.diff()/res.shift(1)).dropna()\n",
    "    return(res)\n",
    "\n",
    "stocks_returns(stocks, weights, from_date, to_date)"
   ]
  },
  {
   "cell_type": "code",
   "execution_count": 4,
   "id": "4cd531c2",
   "metadata": {},
   "outputs": [
    {
     "data": {
      "text/plain": [
       "01/03/2020    0.035472\n",
       "01/06/2020    0.004519\n",
       "01/07/2020   -0.009288\n",
       "01/08/2020   -0.041453\n",
       "01/09/2020   -0.001070\n",
       "                ...   \n",
       "09/26/2022   -0.025520\n",
       "09/27/2022    0.024258\n",
       "09/28/2022    0.052433\n",
       "09/29/2022   -0.009292\n",
       "09/30/2022   -0.005989\n",
       "Length: 711, dtype: float64"
      ]
     },
     "execution_count": 4,
     "metadata": {},
     "output_type": "execute_result"
    }
   ],
   "source": [
    "#comm\n",
    "\n",
    "comm = ['Brent Oil Futures', 'Crude Oil WTI Futures'] \n",
    "weights = [0.1, 0.9]\n",
    "\n",
    "from_date = '01/02/2020'\n",
    "to_date = '10/01/2022'\n",
    "\n",
    "def commodities_returns(assets, weights, from_date, to_date):\n",
    "    st_data = []\n",
    "    i = 0\n",
    "    for sec in assets:\n",
    "        sec_id = investiny.search_assets(query=comm[0], limit=1, type='Commodity')[0][\"ticker\"]\n",
    "        data = investiny.historical_data(sec_id, from_date, to_date)\n",
    "        dates = data['date']\n",
    "        st_data.append([j * weights[i] for j in data['close']])\n",
    "        i += 1\n",
    "    res = pd.DataFrame(data = np.array(st_data), columns = dates).T \n",
    "    res = res.sum(axis=1)\n",
    "    res = (res.diff()/res.shift(1)).dropna()\n",
    "    return(res)\n",
    "\n",
    "commodities_returns(comm, weights, from_date, to_date)"
   ]
  },
  {
   "cell_type": "code",
   "execution_count": 5,
   "id": "4601d14e",
   "metadata": {},
   "outputs": [
    {
     "data": {
      "text/plain": [
       "01/03/2020    0.035472\n",
       "01/06/2020    0.004519\n",
       "01/07/2020   -0.009288\n",
       "01/08/2020   -0.041453\n",
       "01/09/2020   -0.001070\n",
       "                ...   \n",
       "09/26/2022   -0.025520\n",
       "09/27/2022    0.024258\n",
       "09/28/2022    0.052433\n",
       "09/29/2022   -0.009292\n",
       "09/30/2022   -0.005989\n",
       "Length: 711, dtype: float64"
      ]
     },
     "execution_count": 5,
     "metadata": {},
     "output_type": "execute_result"
    }
   ],
   "source": [
    "#crypto\n",
    "\n",
    "crypto = ['BTC', 'ETH']\n",
    "weights = [0.1, 0.9]\n",
    "\n",
    "from_date = '01/02/2020'\n",
    "to_date = '10/01/2022'\n",
    "\n",
    "def cryptocurrencies_returns(assets, weights, from_date, to_date):\n",
    "    st_data = []\n",
    "    i = 0\n",
    "    for sec in assets:\n",
    "        sec_id = investiny.search_assets(query=comm[0], limit=1)[0][\"ticker\"]\n",
    "        data = investiny.historical_data(sec_id, from_date, to_date)\n",
    "        dates = data['date']\n",
    "        st_data.append([j * weights[i] for j in data['close']])\n",
    "        i += 1\n",
    "    res = pd.DataFrame(data = np.array(st_data), columns = dates).T \n",
    "    res = res.sum(axis=1)\n",
    "    res = (res.diff()/res.shift(1)).dropna()\n",
    "    return(res)\n",
    "\n",
    "commodities_returns(crypto, weights, from_date, to_date)"
   ]
  },
  {
   "cell_type": "code",
   "execution_count": 6,
   "id": "99273f78",
   "metadata": {},
   "outputs": [],
   "source": [
    "import numpy as np\n",
    "import pandas as pd\n",
    "from data import stocks_returns\n",
    "\n",
    "def test_stocks_returns():\n",
    "    assets = ['AAPL']\n",
    "    weights = [1.]\n",
    "    returns = stocks_returns(assets, weights, from_date='09/02/2022', to_date='09/07/2022')\n",
    "    test_returns = pd.Series(\n",
    "        data=[-0.0136, -0.0082, 0.0093], \n",
    "        index=pd.to_datetime(['09/02/2022', '09/06/2022', '09/07/2022']),\n",
    "    )\n",
    "    assert np.allclose(returns, test_returns, atol=0.0001)\n",
    "    \n",
    "    assets = ['AAPL', 'GOOGL']\n",
    "    weights = [0.3, 0.7]\n",
    "    returns = stocks_returns(assets, weights, from_date='09/02/2022', to_date='09/07/2022')\n",
    "    test_returns = pd.Series(\n",
    "        data=[-0.0158, -0.0091, 0.0188], \n",
    "        index=pd.to_datetime(['09/02/2022', '09/06/2022', '09/07/2022']),\n",
    "    )\n",
    "    assert np.allclose(returns, test_returns, atol=0.0001)\n"
   ]
  },
  {
   "cell_type": "code",
   "execution_count": 8,
   "id": "cc8cedef",
   "metadata": {},
   "outputs": [
    {
     "data": {
      "text/plain": [
       "09/06/2022   -0.008215\n",
       "dtype: float64"
      ]
     },
     "execution_count": 8,
     "metadata": {},
     "output_type": "execute_result"
    }
   ],
   "source": [
    "assets = ['AAPL']\n",
    "weights = [1.]\n",
    "\n",
    "stocks_returns(assets, weights, from_date='09/02/2022', to_date='09/07/2022')"
   ]
  },
  {
   "cell_type": "code",
   "execution_count": 7,
   "id": "f826a125",
   "metadata": {},
   "outputs": [
    {
     "ename": "AssertionError",
     "evalue": "",
     "output_type": "error",
     "traceback": [
      "\u001b[0;31m---------------------------------------------------------------------------\u001b[0m",
      "\u001b[0;31mAssertionError\u001b[0m                            Traceback (most recent call last)",
      "Input \u001b[0;32mIn [7]\u001b[0m, in \u001b[0;36m<cell line: 1>\u001b[0;34m()\u001b[0m\n\u001b[0;32m----> 1\u001b[0m \u001b[43mtest_stocks_returns\u001b[49m\u001b[43m(\u001b[49m\u001b[43m)\u001b[49m\n",
      "Input \u001b[0;32mIn [6]\u001b[0m, in \u001b[0;36mtest_stocks_returns\u001b[0;34m()\u001b[0m\n\u001b[1;32m      8\u001b[0m returns \u001b[38;5;241m=\u001b[39m stocks_returns(assets, weights, from_date\u001b[38;5;241m=\u001b[39m\u001b[38;5;124m'\u001b[39m\u001b[38;5;124m09/02/2022\u001b[39m\u001b[38;5;124m'\u001b[39m, to_date\u001b[38;5;241m=\u001b[39m\u001b[38;5;124m'\u001b[39m\u001b[38;5;124m09/07/2022\u001b[39m\u001b[38;5;124m'\u001b[39m)\n\u001b[1;32m      9\u001b[0m test_returns \u001b[38;5;241m=\u001b[39m pd\u001b[38;5;241m.\u001b[39mSeries(\n\u001b[1;32m     10\u001b[0m     data\u001b[38;5;241m=\u001b[39m[\u001b[38;5;241m-\u001b[39m\u001b[38;5;241m0.0136\u001b[39m, \u001b[38;5;241m-\u001b[39m\u001b[38;5;241m0.0082\u001b[39m, \u001b[38;5;241m0.0093\u001b[39m], \n\u001b[1;32m     11\u001b[0m     index\u001b[38;5;241m=\u001b[39mpd\u001b[38;5;241m.\u001b[39mto_datetime([\u001b[38;5;124m'\u001b[39m\u001b[38;5;124m09/02/2022\u001b[39m\u001b[38;5;124m'\u001b[39m, \u001b[38;5;124m'\u001b[39m\u001b[38;5;124m09/06/2022\u001b[39m\u001b[38;5;124m'\u001b[39m, \u001b[38;5;124m'\u001b[39m\u001b[38;5;124m09/07/2022\u001b[39m\u001b[38;5;124m'\u001b[39m]),\n\u001b[1;32m     12\u001b[0m )\n\u001b[0;32m---> 13\u001b[0m \u001b[38;5;28;01massert\u001b[39;00m np\u001b[38;5;241m.\u001b[39mallclose(returns, test_returns, atol\u001b[38;5;241m=\u001b[39m\u001b[38;5;241m0.0001\u001b[39m)\n\u001b[1;32m     15\u001b[0m assets \u001b[38;5;241m=\u001b[39m [\u001b[38;5;124m'\u001b[39m\u001b[38;5;124mAAPL\u001b[39m\u001b[38;5;124m'\u001b[39m, \u001b[38;5;124m'\u001b[39m\u001b[38;5;124mGOOGL\u001b[39m\u001b[38;5;124m'\u001b[39m]\n\u001b[1;32m     16\u001b[0m weights \u001b[38;5;241m=\u001b[39m [\u001b[38;5;241m0.3\u001b[39m, \u001b[38;5;241m0.7\u001b[39m]\n",
      "\u001b[0;31mAssertionError\u001b[0m: "
     ]
    }
   ],
   "source": [
    "test_stocks_returns()"
   ]
  }
 ],
 "metadata": {
  "kernelspec": {
   "display_name": "Python 3 (ipykernel)",
   "language": "python",
   "name": "python3"
  },
  "language_info": {
   "codemirror_mode": {
    "name": "ipython",
    "version": 3
   },
   "file_extension": ".py",
   "mimetype": "text/x-python",
   "name": "python",
   "nbconvert_exporter": "python",
   "pygments_lexer": "ipython3",
   "version": "3.9.10"
  }
 },
 "nbformat": 4,
 "nbformat_minor": 5
}
